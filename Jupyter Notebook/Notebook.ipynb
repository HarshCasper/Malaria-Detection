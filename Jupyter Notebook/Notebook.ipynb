{
 "cells": [
  {
   "cell_type": "markdown",
   "metadata": {},
   "source": [
    "# Classification of whether an Image of Cell is Infected with Malaria or Not\n",
    "\n",
    "\n",
    "In this notebook, I will build a Convolution Neural Network ML Model that will be able to predict with a certain amount of accuracy whether or not an image of a cell has been infected with Malaria or not. I will then deploy the final model using Google Cloud Platform's App Engine.\n",
    "\n",
    "\n",
    "### About Malaria:\n",
    "\n",
    "Malaria is a life-threatening disease caused by parasites that are transmitted to people through the bites of infected female Anopheles mosquitoes. It is preventable and curable.\n",
    "\n",
    "In 2017, there were an estimated 219 million cases of malaria in 90 countries.\n",
    "\n",
    "Malaria deaths reached 435,000 in 2017.\n",
    "\n",
    "The WHO African Region carries a disproportionately high share of the global malaria burden. In 2017, the region was home to 92% of malaria cases and 93% of malaria deaths.\n",
    "\n",
    "Malaria is caused by Plasmodium parasites. The parasites are spread to people through the bites of infected female Anopheles mosquitoes, called \"malaria vectors.\" There are 5 parasite species that cause malaria in humans, and 2 of these species – P. falciparum and P. vivax – pose the greatest threat.\n",
    "\n",
    "**Diagnosis of malaria can be difficult:**\n",
    "\n",
    "Where malaria is not endemic any more (such as in the United States), health-care providers may not be familiar with the disease. Clinicians seeing a malaria patient may forget to consider malaria among the potential diagnoses and not order the needed diagnostic tests. Laboratorians may lack experience with malaria and fail to detect parasites when examining blood smears under the microscope.\n",
    "\n",
    "Malaria is an acute febrile illness. In a non-immune individual, symptoms usually appear 10–15 days after the infective mosquito bite. The first symptoms – fever, headache, and chills – may be mild and difficult to recognize as malaria. If not treated within 24 hours, P. falciparum malaria can progress to severe illness, often leading to death.\n",
    "\n",
    "**Microscopic Diagnosis**\n",
    "\n",
    "Malaria parasites can be identified by examining under the microscope a drop of the patient’s blood, spread out as a “blood smear” on a microscope slide. Prior to examination, the specimen is stained to give the parasites a distinctive appearance. This technique remains the gold standard for laboratory confirmation of malaria. However, it depends on the quality of the reagents, of the microscope, and on the experience of the laboratorian.\n",
    "\n",
    "\n",
    "#### Acknowledgements\n",
    "\n",
    "This Dataset is taken from the official US National Library of Medicine's NIH Website: https://ceb.nlm.nih.gov/repositories/malaria-datasets/. It is a repository of segmented cells from the thin blood smear slide images from the Malaria Screener research activity.\n",
    "\n",
    "The dataset contains 27,558 color images and 2 folders - infected and uninfected.\n",
    "\n",
    "\n",
    "\n",
    "## SUMMARY OF RESULTS:\n",
    "\n",
    "Building a custom built 2-layered Convolution Neural Network provided fairly good results at 95% accuracy. F1 Score, Precision, and Recall were also at 95% for each giving us an equal and moderately low number of False Positives and False Negatives.\n",
    "\n",
    "```\n",
    "'ACCURACY SCORE:'\n",
    "0.9508345428156749\n",
    "'CLASSIFICATION REPORT:'\n",
    "              precision    recall  f1-score   support\n",
    "\n",
    "           0       0.95      0.95      0.95      2730\n",
    "           1       0.95      0.95      0.95      2782\n",
    "\n",
    "   micro avg       0.95      0.95      0.95      5512\n",
    "   macro avg       0.95      0.95      0.95      5512\n",
    "weighted avg       0.95      0.95      0.95      5512\n",
    "```\n",
    "\n",
    "Our transfer learned model using VGG16 as our base model did not perform as well with an accuracy level at 91% and much more False Negatives than False Positives (a lower precision when stating if the cell was not infected with Malaria) which is very dangerous in medical diagnoses. This is to be expected since the classification of such images is so highly specific, building a custom built model would give much better accuracy."
   ]
  },
  {
   "cell_type": "code",
   "execution_count": 1,
   "metadata": {},
   "outputs": [],
   "source": [
    "# Common Imports:\n",
    "import pandas as pd\n",
    "import numpy as np\n",
    "import os\n",
    "\n",
    "# To allow markdowns in Python Cells:\n",
    "from IPython.display import display, Markdown\n",
    "# display(Markdown(\"# Hello World!\"))\n",
    "\n",
    "# To Plot Pretty Figures:\n",
    "import seaborn as sns\n",
    "import matplotlib as mpl\n",
    "import matplotlib.pyplot as plt\n",
    "mpl.rc('axes', labelsize=14)\n",
    "mpl.rc('xtick', labelsize=12)\n",
    "mpl.rc('ytick', labelsize=12)\n",
    "%matplotlib inline \n",
    "\n",
    "# allowing for any single variable to print out without using the print statement:\n",
    "from IPython.core.interactiveshell import InteractiveShell\n",
    "InteractiveShell.ast_node_interactivity = \"all\""
   ]
  },
  {
   "cell_type": "markdown",
   "metadata": {},
   "source": [
    "### First, we will access our images and create our test and train X and Y values."
   ]
  },
  {
   "cell_type": "code",
   "execution_count": 2,
   "metadata": {},
   "outputs": [
    {
     "name": "stderr",
     "output_type": "stream",
     "text": [
      "Using TensorFlow backend.\n"
     ]
    }
   ],
   "source": [
    "# Path to access images\n",
    "from pathlib import Path\n",
    "\n",
    "# in-built keras image pre-processing library\n",
    "from keras.preprocessing import image"
   ]
  },
  {
   "cell_type": "code",
   "execution_count": 3,
   "metadata": {},
   "outputs": [
    {
     "data": {
      "text/plain": [
       "True"
      ]
     },
     "execution_count": 3,
     "metadata": {},
     "output_type": "execute_result"
    },
    {
     "data": {
      "text/plain": [
       "True"
      ]
     },
     "execution_count": 3,
     "metadata": {},
     "output_type": "execute_result"
    }
   ],
   "source": [
    "# Path to folders with training data\n",
    "parasitized_path = Path('cell_images') / 'Parasitized'\n",
    "not_parasitized_path = Path('cell_images') / 'Uninfected'\n",
    "\n",
    "# making sure the directories exist\n",
    "parasitized_path.is_dir()\n",
    "not_parasitized_path.is_dir()"
   ]
  },
  {
   "cell_type": "code",
   "execution_count": 4,
   "metadata": {},
   "outputs": [],
   "source": [
    "# initializing the lists of images (X) and labels (Y)\n",
    "images = []\n",
    "labels = []"
   ]
  },
  {
   "cell_type": "code",
   "execution_count": 5,
   "metadata": {},
   "outputs": [],
   "source": [
    "# import library to resize images:\n",
    "from skimage import transform\n",
    "\n",
    "# setting the new shape of image:\n",
    "new_shape = (50, 50, 3)"
   ]
  },
  {
   "cell_type": "code",
   "execution_count": 6,
   "metadata": {
    "scrolled": false
   },
   "outputs": [],
   "source": [
    "import warnings;\n",
    "warnings.filterwarnings('ignore');\n",
    "\n",
    "# Load all the non-malaria images and setting their Y label as 0\n",
    "for img in not_parasitized_path.glob(\"*.png\"):\n",
    "    \n",
    "    # Load the image from disk\n",
    "    img = image.load_img(img)\n",
    "\n",
    "    # Convert the image to a numpy array\n",
    "    image_array = image.img_to_array(img)\n",
    "    \n",
    "    # resize the image (must be done after it has turned into a np array):\n",
    "    image_array = transform.resize(image_array, new_shape, anti_aliasing=True)\n",
    "    \n",
    "    # scaling the image data to fall between 0-1 since images have 255 brightness values:\n",
    "    image_array /= 255\n",
    "\n",
    "    # Add the image to the list of images\n",
    "    images.append(image_array)\n",
    "\n",
    "    # For each 'not parasitized' image, the expected value should be 0\n",
    "    labels.append(0)"
   ]
  },
  {
   "cell_type": "code",
   "execution_count": 7,
   "metadata": {},
   "outputs": [
    {
     "data": {
      "text/plain": [
       "<matplotlib.image.AxesImage at 0x1cd7140f550>"
      ]
     },
     "execution_count": 7,
     "metadata": {},
     "output_type": "execute_result"
    },
    {
     "data": {
      "text/plain": [
       "Text(0.5, 1.0, 'Sample Uninfected Cell')"
      ]
     },
     "execution_count": 7,
     "metadata": {},
     "output_type": "execute_result"
    },
    {
     "data": {
      "text/plain": [
       "'Dimensions of image:'"
      ]
     },
     "execution_count": 7,
     "metadata": {},
     "output_type": "execute_result"
    },
    {
     "data": {
      "text/plain": [
       "(50, 50, 3)"
      ]
     },
     "execution_count": 7,
     "metadata": {},
     "output_type": "execute_result"
    },
    {
     "data": {
      "text/plain": [
       "'Images / Labels we have imported thus far:'"
      ]
     },
     "execution_count": 7,
     "metadata": {},
     "output_type": "execute_result"
    },
    {
     "data": {
      "text/plain": [
       "13779"
      ]
     },
     "execution_count": 7,
     "metadata": {},
     "output_type": "execute_result"
    },
    {
     "data": {
      "text/plain": [
       "13779"
      ]
     },
     "execution_count": 7,
     "metadata": {},
     "output_type": "execute_result"
    },
    {
     "data": {
      "image/png": "[encoded data removed]",
      "text/plain": [
       "<Figure size 432x288 with 1 Axes>"
      ]
     },
     "metadata": {
      "needs_background": "light"
     },
     "output_type": "display_data"
    }
   ],
   "source": [
    "plt.imshow(images[0])\n",
    "plt.title('Sample Uninfected Cell')\n",
    "\"Dimensions of image:\"\n",
    "images[0].shape\n",
    "\n",
    "\"Images / Labels we have imported thus far:\"\n",
    "len(images)\n",
    "len(labels)"
   ]
  },
  {
   "cell_type": "markdown",
   "metadata": {},
   "source": [
    "Let's now import all the infected images:"
   ]
  },
  {
   "cell_type": "code",
   "execution_count": 8,
   "metadata": {},
   "outputs": [],
   "source": [
    "# Load all the malaria images and setting their Y label as 1\n",
    "for img in parasitized_path.glob(\"*.png\"):\n",
    "    \n",
    "    # Load the image from disk\n",
    "    img = image.load_img(img)\n",
    "\n",
    "    # Convert the image to a numpy array\n",
    "    image_array = image.img_to_array(img)\n",
    "    \n",
    "    # resize the image (must be done after it has turned into a np array):\n",
    "    image_array = transform.resize(image_array, new_shape, anti_aliasing=True)\n",
    "    \n",
    "    # scaling the image data to fall between 0-1 since images have 255 brightness values:\n",
    "    image_array /= 255\n",
    "\n",
    "    # Add the image to the list of images\n",
    "    images.append(image_array)\n",
    "\n",
    "    # For each 'parasitized' image, the expected value should be 1\n",
    "    labels.append(1)"
   ]
  },
  {
   "cell_type": "markdown",
   "metadata": {},
   "source": [
    "Let's take a look at an infected cell:"
   ]
  },
  {
   "cell_type": "code",
   "execution_count": 10,
   "metadata": {},
   "outputs": [
    {
     "data": {
      "text/plain": [
       "<matplotlib.image.AxesImage at 0x1cd7189e4a8>"
      ]
     },
     "execution_count": 10,
     "metadata": {},
     "output_type": "execute_result"
    },
    {
     "data": {
      "text/plain": [
       "Text(0.5, 1.0, 'Sample Infected Cell')"
      ]
     },
     "execution_count": 10,
     "metadata": {},
     "output_type": "execute_result"
    },
    {
     "data": {
      "text/plain": [
       "'Dimensions of image:'"
      ]
     },
     "execution_count": 10,
     "metadata": {},
     "output_type": "execute_result"
    },
    {
     "data": {
      "text/plain": [
       "(50, 50, 3)"
      ]
     },
     "execution_count": 10,
     "metadata": {},
     "output_type": "execute_result"
    },
    {
     "data": {
      "text/plain": [
       "'Images / Labels we have imported thus far:'"
      ]
     },
     "execution_count": 10,
     "metadata": {},
     "output_type": "execute_result"
    },
    {
     "data": {
      "text/plain": [
       "27558"
      ]
     },
     "execution_count": 10,
     "metadata": {},
     "output_type": "execute_result"
    },
    {
     "data": {
      "text/plain": [
       "27558"
      ]
     },
     "execution_count": 10,
     "metadata": {},
     "output_type": "execute_result"
    },
    {
     "data": {
      "image/png": "[encoded data removed]",
      "text/plain": [
       "<Figure size 432x288 with 1 Axes>"
      ]
     },
     "metadata": {
      "needs_background": "light"
     },
     "output_type": "display_data"
    }
   ],
   "source": [
    "plt.imshow(images[-1])\n",
    "plt.title('Sample Infected Cell')\n",
    "\"Dimensions of image:\"\n",
    "images[-1].shape\n",
    "\n",
    "\"Images / Labels we have imported thus far:\"\n",
    "len(images)\n",
    "len(labels)"
   ]
  },
  {
   "cell_type": "markdown",
   "metadata": {},
   "source": [
    "Here, we save and load the np data so we don't need to run through all the pre-processing from scratch next time."
   ]
  },
  {
   "cell_type": "code",
   "execution_count": 11,
   "metadata": {},
   "outputs": [
    {
     "data": {
      "text/plain": [
       "6210"
      ]
     },
     "execution_count": 11,
     "metadata": {},
     "output_type": "execute_result"
    }
   ],
   "source": [
    "# memory dump\n",
    "import gc\n",
    "gc.collect()"
   ]
  },
  {
   "cell_type": "markdown",
   "metadata": {},
   "source": [
    "Now, we randomly shuffle the images and labels (while respecting their order of course) before we split into training and testing sets:"
   ]
  },
  {
   "cell_type": "code",
   "execution_count": 12,
   "metadata": {},
   "outputs": [],
   "source": [
    "from sklearn.utils import shuffle\n",
    "images, labels = shuffle(images, labels)"
   ]
  },
  {
   "cell_type": "code",
   "execution_count": 13,
   "metadata": {},
   "outputs": [
    {
     "data": {
      "text/plain": [
       "<matplotlib.image.AxesImage at 0x1cd6fd10208>"
      ]
     },
     "execution_count": 13,
     "metadata": {},
     "output_type": "execute_result"
    },
    {
     "data": {
      "text/plain": [
       "'1 means it is infected:'"
      ]
     },
     "execution_count": 13,
     "metadata": {},
     "output_type": "execute_result"
    },
    {
     "data": {
      "text/plain": [
       "1"
      ]
     },
     "execution_count": 13,
     "metadata": {},
     "output_type": "execute_result"
    },
    {
     "data": {
      "image/png": "[encoded data removed]",
      "text/plain": [
       "<Figure size 432x288 with 1 Axes>"
      ]
     },
     "metadata": {
      "needs_background": "light"
     },
     "output_type": "display_data"
    }
   ],
   "source": [
    "# checking to make sure that the order is still in place:\n",
    "plt.imshow(images[-6])\n",
    "\"1 means it is infected:\"\n",
    "labels[-6]"
   ]
  },
  {
   "cell_type": "code",
   "execution_count": 14,
   "metadata": {},
   "outputs": [],
   "source": [
    "# Create a single numpy array with all the images we loaded (list to np array)\n",
    "x_data = np.array(images)\n",
    "\n",
    "# Also convert the labels to a numpy array from a list\n",
    "y_data = np.array(labels)"
   ]
  },
  {
   "cell_type": "code",
   "execution_count": 15,
   "metadata": {},
   "outputs": [],
   "source": [
    "# Splitting the dataset into the Training set and Test set\n",
    "from sklearn.model_selection import train_test_split\n",
    "X_train, X_test, y_train, y_test = train_test_split(x_data, y_data, test_size = 0.2, random_state = 0)"
   ]
  },
  {
   "cell_type": "code",
   "execution_count": 16,
   "metadata": {},
   "outputs": [],
   "source": [
    "# type convert the test and training data:\n",
    "X_train = X_train.astype('float32')\n",
    "X_test = X_test.astype('float32')"
   ]
  },
  {
   "cell_type": "code",
   "execution_count": 17,
   "metadata": {},
   "outputs": [
    {
     "data": {
      "text/plain": [
       "'X_train shape: (22046, 50, 50, 3)'"
      ]
     },
     "execution_count": 17,
     "metadata": {},
     "output_type": "execute_result"
    },
    {
     "data": {
      "text/plain": [
       "'X_test.shape: (5512, 50, 50, 3)'"
      ]
     },
     "execution_count": 17,
     "metadata": {},
     "output_type": "execute_result"
    }
   ],
   "source": [
    "f'X_train shape: {X_train.shape}'\n",
    "f'X_test.shape: {X_test.shape}'"
   ]
  },
  {
   "cell_type": "code",
   "execution_count": 18,
   "metadata": {},
   "outputs": [
    {
     "data": {
      "text/plain": [
       "array([0, 0, 1])"
      ]
     },
     "execution_count": 18,
     "metadata": {},
     "output_type": "execute_result"
    }
   ],
   "source": [
    "y_train[0:3]"
   ]
  },
  {
   "cell_type": "code",
   "execution_count": 19,
   "metadata": {},
   "outputs": [],
   "source": [
    "# one hot encoding Y:\n",
    "from keras.utils import to_categorical\n",
    "y_train = to_categorical(y_train)\n",
    "y_test = to_categorical(y_test)"
   ]
  },
  {
   "cell_type": "code",
   "execution_count": 20,
   "metadata": {},
   "outputs": [
    {
     "data": {
      "text/plain": [
       "array([[1., 0.],\n",
       "       [1., 0.],\n",
       "       [0., 1.]], dtype=float32)"
      ]
     },
     "execution_count": 20,
     "metadata": {},
     "output_type": "execute_result"
    }
   ],
   "source": [
    "y_train[0:3]"
   ]
  },
  {
   "cell_type": "markdown",
   "metadata": {},
   "source": [
    "# Building our Customized CNN Model"
   ]
  },
  {
   "cell_type": "code",
   "execution_count": 21,
   "metadata": {},
   "outputs": [],
   "source": [
    "# importing the necessary Keras Tensorflow libraries:\n",
    "import keras\n",
    "from keras.models import Sequential\n",
    "from keras.layers import Dense, Dropout, Flatten\n",
    "from keras.layers import Conv2D, MaxPooling2D\n",
    "from keras import backend as K"
   ]
  },
  {
   "cell_type": "code",
   "execution_count": 22,
   "metadata": {},
   "outputs": [
    {
     "name": "stdout",
     "output_type": "stream",
     "text": [
      "WARNING:tensorflow:From C:\\Users\\danie\\Anaconda3\\lib\\site-packages\\tensorflow\\python\\framework\\op_def_library.py:263: colocate_with (from tensorflow.python.framework.ops) is deprecated and will be removed in a future version.\n",
      "Instructions for updating:\n",
      "Colocations handled automatically by placer.\n",
      "WARNING:tensorflow:From C:\\Users\\danie\\Anaconda3\\lib\\site-packages\\keras\\backend\\tensorflow_backend.py:3445: calling dropout (from tensorflow.python.ops.nn_ops) with keep_prob is deprecated and will be removed in a future version.\n",
      "Instructions for updating:\n",
      "Please use `rate` instead of `keep_prob`. Rate should be set to `rate = 1 - keep_prob`.\n"
     ]
    }
   ],
   "source": [
    "# defining and building our CNN Model, starting off with a Sequential ANN (CNN is a type of ANN):\n",
    "mymodel = Sequential()\n",
    "\n",
    "# Creating the CNN layers:\n",
    "mymodel.add(Conv2D(32, kernel_size=(3,3), activation='relu', input_shape=(50, 50, 3)))\n",
    "mymodel.add(MaxPooling2D(pool_size=(2,2)))\n",
    "mymodel.add(Conv2D(32, kernel_size=(3,3), activation='relu'))\n",
    "mymodel.add(MaxPooling2D(pool_size=(2,2)))\n",
    "# flatten once exiting CNN layers:\n",
    "mymodel.add(Flatten())\n",
    "# set our classification ANN layer with unknown inputs. 128 is the number of neuron layers that is arbitrarily set\n",
    "mymodel.add(Dense(128, activation='relu'))\n",
    "# this dropout prevents overfitting.\n",
    "mymodel.add(Dropout(0.5))\n",
    "# set our classification ANN OUTPUT layer. 2 layer for binary classification - sigmoid for binary\n",
    "mymodel.add(Dense(2, activation='sigmoid'))"
   ]
  },
  {
   "cell_type": "code",
   "execution_count": 23,
   "metadata": {},
   "outputs": [],
   "source": [
    "#   define compile to minimize categorical loss, use ada delta optimized, and optimize to maximizing accuracy\n",
    "mymodel.compile(loss=keras.losses.categorical_crossentropy,\n",
    "              optimizer=keras.optimizers.Adadelta(),\n",
    "              metrics=['accuracy'])"
   ]
  },
  {
   "cell_type": "code",
   "execution_count": 24,
   "metadata": {},
   "outputs": [
    {
     "name": "stdout",
     "output_type": "stream",
     "text": [
      "WARNING:tensorflow:From C:\\Users\\danie\\Anaconda3\\lib\\site-packages\\tensorflow\\python\\ops\\math_ops.py:3066: to_int32 (from tensorflow.python.ops.math_ops) is deprecated and will be removed in a future version.\n",
      "Instructions for updating:\n",
      "Use tf.cast instead.\n",
      "Train on 22046 samples, validate on 5512 samples\n",
      "Epoch 1/20\n",
      "22046/22046 [==============================] - 45s 2ms/step - loss: 0.6780 - acc: 0.5705 - val_loss: 0.6840 - val_acc: 0.5330: 0.57\n",
      "Epoch 2/20\n",
      "22046/22046 [==============================] - 37s 2ms/step - loss: 0.5807 - acc: 0.6934 - val_loss: 0.3968 - val_acc: 0.8278\n",
      "Epoch 3/20\n",
      "22046/22046 [==============================] - 37s 2ms/step - loss: 0.2915 - acc: 0.8891 - val_loss: 0.2242 - val_acc: 0.9160 ETA: 7s - loss: 0.3064 - acc:  - ETA: 6s - loss: 0. - ETA: 2s - loss: 0.2957\n",
      "Epoch 4/20\n",
      "22046/22046 [==============================] - 36s 2ms/step - loss: 0.2066 - acc: 0.9249 - val_loss: 0.1891 - val_acc: 0.9351loss: 0.2049 - acc: 0 - ETA: 2s - loss: 0.2056 - ETA: 0s - loss: 0.2068 - acc: 0.924\n",
      "Epoch 5/20\n",
      "22046/22046 [==============================] - 37s 2ms/step - loss: 0.1860 - acc: 0.9313 - val_loss: 0.1917 - val_acc: 0.9280A: 26s - loss: 0.1839 - acc: 0. - ETA:  - ETA: 22s - loss: 0.1874 - acc: 0. - - ETA: 18s - loss: 0.1875 - acc:  - ETA: 17s - loss: 0. - ETA: 12s - loss: 0.1856 - acc - ETA: 11s - loss: 0.1845 - acc - ETA: 10s - loss:  - ETA: 7s - loss: 0.1843 - acc: - E\n",
      "Epoch 6/20\n",
      "22046/22046 [==============================] - 35s 2ms/step - loss: 0.1731 - acc: 0.9362 - val_loss: 0.1801 - val_acc: 0.9376 30s - loss: 0.1878 - acc: 0.92 - ETA: 30s - loss: 0.1935 - ETA: 28s  - ETA: 25s - loss: 0.1773 - acc: 0. - ETA: 25s - lo - ETA: 23s - loss:  - ETA: 21s - loss: 0.1830 - acc: 0.93 - ETA: 21s - loss:  - ETA: 19 - ETA: 17s - loss: 0.18 - ETA: 15s - loss: 0.1825 - E - ETA: 11s - loss: 0.17 - ETA: 10s - loss: 0.1762 - acc: 0.93 - ETA: 9s - lo - ETA: 5s - loss: 0.1721 - acc:  - ETA: 4s - loss: 0.1723 - acc: 0.93 - ETA: 4s - loss: 0.1724 - acc: - ETA: 2s - loss: 0.1717 - acc: 0.93 - ETA: 2s - loss: 0.1720 - ac - ETA: 0s - loss: 0.1740 - acc: 0\n",
      "Epoch 7/20\n",
      "22046/22046 [==============================] - 34s 2ms/step - loss: 0.1645 - acc: 0.9393 - val_loss: 0.1661 - val_acc: 0.9419 loss: 0.1695 - acc: 0. - ETA: 29s - loss: 0.1698 - a - ETA: 29s - loss: 0. - ETA: 27s - loss: 0.1633 - - ETA: 26s - loss: 0.1643 - a - ETA: 25s - loss: 0.16 - ETA: 24s - lo - ETA: 22s - loss: 0.1694 - acc: 0.93 - ETA: 22s - lo - ETA: 19s - loss: 0.1651 - acc:  - ETA: 19s - lo - ETA: 13s - loss: 0. - ETA: 7s - loss: 0.1639 - acc: 0.9 - ETA: 7s - loss: 0.1647 - acc: 0. - ETA: 6s - loss: 0.1653 - acc: 0. - ETA: 5s - loss: 0.1648  - ETA: 3s - loss: 0.16 - ETA: 0s - loss: 0.1647 - acc: 0\n",
      "Epoch 8/20\n",
      "22046/22046 [==============================] - 35s 2ms/step - loss: 0.1566 - acc: 0.9420 - val_loss: 0.1714 - val_acc: 0.9369A: 13s - loss: 0.1500 - a - ETA: 12s - loss: 0.15 - ETA: 11s - loss: 0.1525 - acc: 0.94 - ETA: 11s - loss: 0.1530 -  - ETA: 3s - loss:\n",
      "Epoch 9/20\n",
      "22046/22046 [==============================] - 35s 2ms/step - loss: 0.1512 - acc: 0.9436 - val_loss: 0.1561 - val_acc: 0.9463A: 29s  - ETA: 27s - loss: 0.1537 - acc: 0.94 - ETA: 27s - loss: 0.1508 - acc:  - ETA: 27s - loss: 0.1528 - - ETA: 26s - loss: 0. - ETA: 24s - loss: 0.1444 - acc:  - ETA: 24s  - ETA - ETA: 19s - loss: 0. - ETA:  - ETA: 14s - loss: 0.1448 - - - ETA: 10s - loss: 0.1536 - acc:  - ETA: 10s - los - ETA: 6s - loss: 0.1532 - acc - ETA: 4s - loss: 0.152 - ETA: 2s - loss: 0.1522 \n",
      "Epoch 10/20\n",
      "22046/22046 [==============================] - 34s 2ms/step - loss: 0.1385 - acc: 0.9518 - val_loss: 0.1514 - val_acc: 0.9503ETA: 8s - loss: 0.1390 - a - ETA: 7s - loss: 0.1393 - acc: 0.950 - ETA: 7s - loss: 0.1392 - acc: - ETA: 5s - loss: 0.1392 - acc: 0.95 - ETA: 5s - l - ETA: 1s - loss: 0.1394 - acc: 0.95 - ETA: 0s - loss: 0.1391 - acc: 0\n",
      "Epoch 11/20\n",
      "22046/22046 [==============================] - 36s 2ms/step - loss: 0.1301 - acc: 0.9568 - val_loss: 0.1711 - val_acc: 0.9490 0.1378 - a - ETA: 22s - loss: 0.1365 - - ETA: 21s - loss: 0.13 - ETA: 19s - loss: 0.1337 - acc:  - ETA: 19s - loss: 0.1332 - ETA: 17s - lo - ETA: 15s - lo - ETA: 13s - loss: 0.13 - ETA: 12s - lo - ETA: 10s - loss: 0.1325 - acc: 0. - ETA: 9s - loss: 0.132 - ETA: 6s - los - ETA: 2s - loss: 0.1310 - acc: 0 - ETA: 1s - loss: 0.1310 - \n",
      "Epoch 12/20\n",
      "22046/22046 [==============================] - 35s 2ms/step - loss: 0.1267 - acc: 0.9576 - val_loss: 0.1463 - val_acc: 0.9548- ETA: 24s - loss: 0.1282 - acc - ETA: 24s - loss: 0.12 - ETA: 12s - loss: 0.1281 - acc - ETA: 11 - ETA: 7s - loss: 0.1284 - ac - ETA: 6s - loss: 0.1262 - acc: 0 - ETA: 5s - loss: 0.1249 -  - ETA: 3s - loss: 0.1275 - acc: 0. - ETA: 2s - loss: 0.1270 - acc: 0 - ETA: 1s - loss: 0.1263 - acc: 0.95 - ETA: 1s - loss: 0.1263 - ac\n",
      "Epoch 13/20\n",
      "22046/22046 [==============================] - 36s 2ms/step - loss: 0.1216 - acc: 0.9577 - val_loss: 0.1610 - val_acc: 0.9487- ETA: 22s - loss:  - ETA: 17s - loss: 0.1200 - acc: 0. - ETA: 17s - loss: 0.1198 - acc: 0. - ETA: 17s - loss: 0.1211 - acc:  - ETA: 12s - loss: 0.1195 - ETA: 11 - ETA: 7s - loss: 0.1182 - acc: 0 - ETA: 6s - loss: 0.1181 - - ETA: 4s - loss: 0.1176 - ETA: 2s - loss: 0.1187 - acc: 0. - ETA: 1s - loss: 0.1185 - acc: 0 - ETA: 0s - loss: 0.1219 - acc: 0.\n",
      "Epoch 14/20\n",
      "22046/22046 [==============================] - 35s 2ms/step - loss: 0.1112 - acc: 0.9624 - val_loss: 0.1456 - val_acc: 0.9530A: 29s -  - ETA: 27s - loss: 0.1163 - acc - ETA: 26s - lo - ETA: 21s - loss: 0.1116 - a - ETA: 20s - loss: 0.1128 - acc: 0. - ETA: 20s -  - ETA: 10s - loss: 0.108 - ETA: 9s - loss: 0.1086 - acc: 0 - ETA: 8s - loss: 0.1095 - acc: 0.9 - ETA:  - ETA: 2s - loss: 0.1104 \n",
      "Epoch 15/20\n",
      "22046/22046 [==============================] - 35s 2ms/step - loss: 0.1066 - acc: 0.9629 - val_loss: 0.1467 - val_acc: 0.9548 - loss: 0. - ETA: 16s - loss: 0.1097 - acc: 0. - ETA: 16 - ETA: 13s - loss: 0.1085 - ETA:  - ETA: 8s - loss: 0.1068 - acc: - ETA: 7s - lo - ETA: 3s - loss: 0.1065 - acc:  - ETA: 2s - loss: 0.1069 - acc: 0. - ETA: 1s - loss: 0.1061 - a\n",
      "Epoch 16/20\n",
      "22046/22046 [==============================] - 36s 2ms/step - loss: 0.1034 - acc: 0.9652 - val_loss: 0.1839 - val_acc: 0.9476.10 - ETA: 15s  - ETA: 13s - loss: 0.1049 - - ETA: 12s - loss: 0.1041 - acc:  - ETA: 11s - loss: 0.1039 - - ETA: 10s - loss - ETA: 8s  - ETA: 3s - loss: 0.1039 - acc: 0.96 - ETA: 2s - loss: 0.1\n",
      "Epoch 17/20\n",
      "22046/22046 [==============================] - 35s 2ms/step - loss: 0.0975 - acc: 0.9672 - val_loss: 0.1482 - val_acc: 0.9497A: 25s - loss: 0.1063 - ETA: 23s - loss: 0.10 - ETA: 22s - loss: 0.1043 - acc - ETA: 21s - loss: 0.1052 - - ETA: 20s - loss: 0.1063 - acc: 0.96 - ETA: 20s - loss: 0.1061 - acc: 0. - ETA: 19s - loss: 0.1054 - acc: 0. - ETA: 19s - loss: 0.10 - ETA: 17s - loss: 0.1019 - acc - ETA: 17s - loss: 0.1010 - a - ETA: 16s - loss: 0.1007 - acc: 0.96 - ETA: 16s - loss: 0.1002 - - ETA: 11s -  - ETA: 7s - loss - ETA: 3s - loss: 0.0978 - acc: 0. - ETA: 3s - loss: 0.0979 - acc: 0.967 - ETA: 2s - loss: 0.0\n",
      "Epoch 18/20\n",
      "22046/22046 [==============================] - 35s 2ms/step - loss: 0.0928 - acc: 0.9691 - val_loss: 0.1499 - val_acc: 0.9525 0.0834 - a - ETA: 27s - loss - ETA: 25s - lo - ETA: 24s - loss: 0.1017 - acc: 0.96 - ETA - ETA: 21s - loss: 0.1007 - acc: 0. - ETA: 21s - loss: 0.1010 - acc:  - ETA: 20s - loss:  - ETA: 18s - lo - E - ETA: 13s - loss: 0.0973 - ETA: 12s - loss: 0.0977 - - ETA: 11s - loss: 0.0965 - acc - ETA: 10s - loss: 0.0970 - a - ETA: 10s - loss: 0.0962 - acc: 0. - ETA: 9s - loss: 0.0952 -  - ETA: 7s - loss: 0.0954 -  - ETA: 5s - loss: 0 - ETA: 2s - loss: 0.0928 - acc: 0.969 - ETA: 2s - loss: 0.0926 - acc - ETA: 0s - loss: 0.0933 - acc: 0.969 - ETA: 0s - loss: 0.0932 - acc: 0.\n",
      "Epoch 19/20\n",
      "22046/22046 [==============================] - 35s 2ms/step - loss: 0.0892 - acc: 0.9688 - val_loss: 0.1683 - val_acc: 0.9546A - ETA: 20s - loss: 0.0874 - acc: 0.96 - ETA: 20s - loss: 0.0874 - ETA: 18s - loss: 0.08 - ETA: 17s - loss: 0.0883 - acc: 0. - ETA: 17s - loss: 0.08 -  - ETA: 8s - loss: 0.0879 - ETA: 6s - loss: - ETA: 2s - loss: 0.0891 - acc: 0.968 - ETA: 2s - loss: 0.0891 - acc: 0. - ETA: 1s - loss: 0.0887 - acc: - ETA: 0s - loss: 0.0895 - acc: 0.96 - ETA: 0s - loss: 0.0894 - acc: 0.968\n",
      "Epoch 20/20\n",
      "22046/22046 [==============================] - 35s 2ms/step - loss: 0.0841 - acc: 0.9717 - val_loss: 0.1533 - val_acc: 0.9508 loss: 0.0936 - acc - ETA: 26s - loss: 0.0896 - - ETA: 25s - loss: 0.0889 - acc: 0.96 - ETA: 25s - lo - ETA: 23s - loss - ETA: 21s - loss: 0.0859 - acc:  - ETA: 16s - loss: 0.0871 - acc: 0.96 - - ETA: 9s - loss: 0.0869 - ac - ETA: 8s -  - ETA: 3s - loss: 0.0850 - - ETA: 1s - loss: 0.0843 - ac\n"
     ]
    }
   ],
   "source": [
    "#   Train the model and test/validate the mode with the test data after each cycle (epoch) through the training data\n",
    "#   Return history of loss and accuracy for each epoch into the hist variable\n",
    "#   arbitrary batch size and epochs\n",
    "hist = mymodel.fit(X_train, y_train,\n",
    "          batch_size=120,\n",
    "          epochs=20,\n",
    "          verbose=1,\n",
    "          validation_data=(X_test, y_test))"
   ]
  },
  {
   "cell_type": "code",
   "execution_count": 26,
   "metadata": {},
   "outputs": [
    {
     "name": "stdout",
     "output_type": "stream",
     "text": [
      "Test loss: 0.1532886670882096\n",
      "Test accuracy: 0.9508345428156749\n"
     ]
    }
   ],
   "source": [
    "#   Evaluate the model with the test data\n",
    "score = mymodel.evaluate(X_test, y_test, verbose=0)\n",
    "print('Test loss:', score[0])\n",
    "print('Test accuracy:', score[1])"
   ]
  },
  {
   "cell_type": "code",
   "execution_count": 27,
   "metadata": {},
   "outputs": [
    {
     "data": {
      "text/plain": [
       "[<matplotlib.lines.Line2D at 0x1cdf13146a0>,\n",
       " <matplotlib.lines.Line2D at 0x1cdf13147f0>]"
      ]
     },
     "execution_count": 27,
     "metadata": {},
     "output_type": "execute_result"
    },
    {
     "data": {
      "text/plain": [
       "<matplotlib.legend.Legend at 0x1cdf1314e48>"
      ]
     },
     "execution_count": 27,
     "metadata": {},
     "output_type": "execute_result"
    },
    {
     "data": {
      "image/png": "[encoded data removed]",
      "text/plain": [
       "<Figure size 432x288 with 1 Axes>"
      ]
     },
     "metadata": {
      "needs_background": "light"
     },
     "output_type": "display_data"
    }
   ],
   "source": [
    "#   Plot data to see relationships in training and validation data\n",
    "epoch_list = list(range(1, len(hist.history['acc']) + 1))  # values for x axis [1, 2, ..., # of epochs]\n",
    "plt.plot(epoch_list, hist.history['acc'], epoch_list, hist.history['val_acc'])\n",
    "plt.legend(('Training Accuracy', 'Validation Accuracy'))\n",
    "plt.show()"
   ]
  },
  {
   "cell_type": "code",
   "execution_count": 28,
   "metadata": {},
   "outputs": [
    {
     "name": "stdout",
     "output_type": "stream",
     "text": [
      "_________________________________________________________________\n",
      "Layer (type)                 Output Shape              Param #   \n",
      "=================================================================\n",
      "conv2d_1 (Conv2D)            (None, 48, 48, 32)        896       \n",
      "_________________________________________________________________\n",
      "max_pooling2d_1 (MaxPooling2 (None, 24, 24, 32)        0         \n",
      "_________________________________________________________________\n",
      "conv2d_2 (Conv2D)            (None, 22, 22, 32)        9248      \n",
      "_________________________________________________________________\n",
      "max_pooling2d_2 (MaxPooling2 (None, 11, 11, 32)        0         \n",
      "_________________________________________________________________\n",
      "flatten_1 (Flatten)          (None, 3872)              0         \n",
      "_________________________________________________________________\n",
      "dense_1 (Dense)              (None, 128)               495744    \n",
      "_________________________________________________________________\n",
      "dropout_1 (Dropout)          (None, 128)               0         \n",
      "_________________________________________________________________\n",
      "dense_2 (Dense)              (None, 2)                 258       \n",
      "=================================================================\n",
      "Total params: 506,146\n",
      "Trainable params: 506,146\n",
      "Non-trainable params: 0\n",
      "_________________________________________________________________\n"
     ]
    }
   ],
   "source": [
    "# summary about the model I built:\n",
    "mymodel.summary()"
   ]
  },
  {
   "cell_type": "code",
   "execution_count": 29,
   "metadata": {},
   "outputs": [],
   "source": [
    "# Saving/loading whole models (architecture + weights + optimizer state) in one file:\n",
    "mymodel.save('model_malaria.h5')"
   ]
  },
  {
   "cell_type": "markdown",
   "metadata": {},
   "source": [
    "#### Load My Model Here:"
   ]
  },
  {
   "cell_type": "code",
   "execution_count": 32,
   "metadata": {},
   "outputs": [
    {
     "data": {
      "text/plain": [
       "91"
      ]
     },
     "execution_count": 32,
     "metadata": {},
     "output_type": "execute_result"
    }
   ],
   "source": [
    "# load model if necessary \n",
    "# start here without having to train it again:\n",
    "\n",
    "# del mymodel\n",
    "# gc.collect()\n",
    "from keras.models import load_model\n",
    "mymodel = load_model('model_malaria.h5')"
   ]
  },
  {
   "cell_type": "code",
   "execution_count": 33,
   "metadata": {},
   "outputs": [],
   "source": [
    "# Do a prediction using my model and the X_Test Data\n",
    "y_pred_mymodel = mymodel.predict(X_test)"
   ]
  },
  {
   "cell_type": "code",
   "execution_count": 34,
   "metadata": {},
   "outputs": [],
   "source": [
    "# converting back to categorical values back from one-hot-encoding for Accuracy Metrics:\n",
    "y_pred_mymodel = np.argmax(y_pred_mymodel, axis=1)\n",
    "y_test = np.argmax(y_test, axis=1)"
   ]
  },
  {
   "cell_type": "code",
   "execution_count": 35,
   "metadata": {},
   "outputs": [
    {
     "data": {
      "text/plain": [
       "'ACCURACY SCORE:'"
      ]
     },
     "execution_count": 35,
     "metadata": {},
     "output_type": "execute_result"
    },
    {
     "data": {
      "text/plain": [
       "0.9508345428156749"
      ]
     },
     "execution_count": 35,
     "metadata": {},
     "output_type": "execute_result"
    },
    {
     "data": {
      "text/plain": [
       "'CLASSIFICATION REPORT:'"
      ]
     },
     "execution_count": 35,
     "metadata": {},
     "output_type": "execute_result"
    },
    {
     "name": "stdout",
     "output_type": "stream",
     "text": [
      "              precision    recall  f1-score   support\n",
      "\n",
      "           0       0.95      0.95      0.95      2730\n",
      "           1       0.95      0.95      0.95      2782\n",
      "\n",
      "   micro avg       0.95      0.95      0.95      5512\n",
      "   macro avg       0.95      0.95      0.95      5512\n",
      "weighted avg       0.95      0.95      0.95      5512\n",
      "\n"
     ]
    }
   ],
   "source": [
    "# See Accuracy Metrics of my custom model using the prediction values:\n",
    "\n",
    "from sklearn.metrics import accuracy_score\n",
    "from sklearn.metrics import classification_report, confusion_matrix\n",
    "\n",
    "# need to rescale it back before sending it to the accuracy score:\n",
    "'ACCURACY SCORE:'\n",
    "accuracy_score(y_test, y_pred_mymodel)\n",
    "\n",
    "'CLASSIFICATION REPORT:' \n",
    "print(classification_report(y_test, y_pred_mymodel))"
   ]
  },
  {
   "cell_type": "code",
   "execution_count": 36,
   "metadata": {
    "scrolled": true
   },
   "outputs": [
    {
     "data": {
      "text/plain": [
       "'CONFUSION MATRIX:'"
      ]
     },
     "execution_count": 36,
     "metadata": {},
     "output_type": "execute_result"
    },
    {
     "data": {
      "text/plain": [
       "'TRUE POSITIVES | FALSE NEGATIVES'"
      ]
     },
     "execution_count": 36,
     "metadata": {},
     "output_type": "execute_result"
    },
    {
     "data": {
      "text/plain": [
       "'FALSE POSITIVES | TRUE NEGATIVES'"
      ]
     },
     "execution_count": 36,
     "metadata": {},
     "output_type": "execute_result"
    },
    {
     "data": {
      "text/plain": [
       "(2640, 142)"
      ]
     },
     "execution_count": 36,
     "metadata": {},
     "output_type": "execute_result"
    },
    {
     "data": {
      "text/plain": [
       "(129, 2640)"
      ]
     },
     "execution_count": 36,
     "metadata": {},
     "output_type": "execute_result"
    },
    {
     "data": {
      "text/plain": [
       "<matplotlib.axes._subplots.AxesSubplot at 0x1ce1081f390>"
      ]
     },
     "execution_count": 36,
     "metadata": {},
     "output_type": "execute_result"
    },
    {
     "data": {
      "image/png": "[encoded data removed]",
      "text/plain": [
       "<Figure size 432x288 with 2 Axes>"
      ]
     },
     "metadata": {
      "needs_background": "light"
     },
     "output_type": "display_data"
    }
   ],
   "source": [
    "# the Confusion Matrix from scikit learn has predicted on side, actual on top, so it's confusing. Here, we unravel it into variables and print it out without confusion:\n",
    "'CONFUSION MATRIX:'\n",
    "tn, fp, fn, tp = confusion_matrix(y_test, y_pred_mymodel).ravel()\n",
    "'TRUE POSITIVES | FALSE NEGATIVES'\n",
    "'FALSE POSITIVES | TRUE NEGATIVES'\n",
    "tp, fn\n",
    "fp, tp\n",
    "\n",
    "\n",
    "# To Plot the Confusion Matrix:\n",
    "import matplotlib.pyplot as plt\n",
    "conf = confusion_matrix(y_test, y_pred_mymodel)\n",
    "sns.heatmap(conf, annot=True)"
   ]
  },
  {
   "cell_type": "markdown",
   "metadata": {},
   "source": [
    "# Comparing Accuracy Metrics of My Custom Model vs. Transfer Learning of VGG16 Keras Model.\n",
    "\n",
    "\n",
    "So with my custom built model, I was able to get an accuracy of about 95% with a roughly equal and minimal amount of False Negatives and False Positives.\n",
    "\n",
    "Let's see how our results compares with the best practice method of taking a highly cited pre-trained VGG16 model and retraining that CNN model with some new classifications for our Malaria vs Non-Malaria infected cell slides."
   ]
  },
  {
   "cell_type": "code",
   "execution_count": 26,
   "metadata": {},
   "outputs": [],
   "source": [
    "# imports:\n",
    "from keras.applications import vgg16"
   ]
  },
  {
   "cell_type": "code",
   "execution_count": 27,
   "metadata": {},
   "outputs": [],
   "source": [
    "# # Normalize image data to 0-to-1 range according to the VGG model\n",
    "# X_train = vgg16.preprocess_input(X_train)\n",
    "# X_test = vgg16.preprocess_input(X_test)"
   ]
  },
  {
   "cell_type": "code",
   "execution_count": 28,
   "metadata": {},
   "outputs": [],
   "source": [
    "# Load a pre-trained neural network to use as a feature extractor. Removing the classification layer.\n",
    "# include Top = False is important when we want to do transfer learning - because we want to introduce a NEW classification layer. We want to include a NEW Top layer.\n",
    "base_model = vgg16.VGG16(weights='imagenet', include_top=False, input_shape=(50, 50, 3))"
   ]
  },
  {
   "cell_type": "code",
   "execution_count": 29,
   "metadata": {},
   "outputs": [
    {
     "name": "stdout",
     "output_type": "stream",
     "text": [
      "_________________________________________________________________\n",
      "Layer (type)                 Output Shape              Param #   \n",
      "=================================================================\n",
      "input_1 (InputLayer)         (None, 50, 50, 3)         0         \n",
      "_________________________________________________________________\n",
      "block1_conv1 (Conv2D)        (None, 50, 50, 64)        1792      \n",
      "_________________________________________________________________\n",
      "block1_conv2 (Conv2D)        (None, 50, 50, 64)        36928     \n",
      "_________________________________________________________________\n",
      "block1_pool (MaxPooling2D)   (None, 25, 25, 64)        0         \n",
      "_________________________________________________________________\n",
      "block2_conv1 (Conv2D)        (None, 25, 25, 128)       73856     \n",
      "_________________________________________________________________\n",
      "block2_conv2 (Conv2D)        (None, 25, 25, 128)       147584    \n",
      "_________________________________________________________________\n",
      "block2_pool (MaxPooling2D)   (None, 12, 12, 128)       0         \n",
      "_________________________________________________________________\n",
      "block3_conv1 (Conv2D)        (None, 12, 12, 256)       295168    \n",
      "_________________________________________________________________\n",
      "block3_conv2 (Conv2D)        (None, 12, 12, 256)       590080    \n",
      "_________________________________________________________________\n",
      "block3_conv3 (Conv2D)        (None, 12, 12, 256)       590080    \n",
      "_________________________________________________________________\n",
      "block3_pool (MaxPooling2D)   (None, 6, 6, 256)         0         \n",
      "_________________________________________________________________\n",
      "block4_conv1 (Conv2D)        (None, 6, 6, 512)         1180160   \n",
      "_________________________________________________________________\n",
      "block4_conv2 (Conv2D)        (None, 6, 6, 512)         2359808   \n",
      "_________________________________________________________________\n",
      "block4_conv3 (Conv2D)        (None, 6, 6, 512)         2359808   \n",
      "_________________________________________________________________\n",
      "block4_pool (MaxPooling2D)   (None, 3, 3, 512)         0         \n",
      "_________________________________________________________________\n",
      "block5_conv1 (Conv2D)        (None, 3, 3, 512)         2359808   \n",
      "_________________________________________________________________\n",
      "block5_conv2 (Conv2D)        (None, 3, 3, 512)         2359808   \n",
      "_________________________________________________________________\n",
      "block5_conv3 (Conv2D)        (None, 3, 3, 512)         2359808   \n",
      "_________________________________________________________________\n",
      "block5_pool (MaxPooling2D)   (None, 1, 1, 512)         0         \n",
      "=================================================================\n",
      "Total params: 14,714,688\n",
      "Trainable params: 14,714,688\n",
      "Non-trainable params: 0\n",
      "_________________________________________________________________\n"
     ]
    }
   ],
   "source": [
    "base_model.summary()"
   ]
  },
  {
   "cell_type": "code",
   "execution_count": 30,
   "metadata": {},
   "outputs": [],
   "source": [
    "# Define the layers in the new classification output ANN layer\n",
    "x = base_model.output # take the output of convolution to x\n",
    "x = Flatten()(x) # add flatten layer to x and passing it back to variable x (right to left)\n",
    "x = Dense(120, activation='relu')(x) # new fully connected (dense) layer with 120 neurons\n",
    "x = Dropout(0.5)(x)\n",
    "predictions = Dense(2, activation='sigmoid')(x)  # new output layer"
   ]
  },
  {
   "cell_type": "code",
   "execution_count": 31,
   "metadata": {},
   "outputs": [],
   "source": [
    "from keras.models import Model\n",
    "\n",
    "# Define final trainable model which links input from the base model to the new classification prediction layers\n",
    "transfer_model = Model(inputs=base_model.input, outputs=predictions)"
   ]
  },
  {
   "cell_type": "code",
   "execution_count": 32,
   "metadata": {},
   "outputs": [
    {
     "name": "stdout",
     "output_type": "stream",
     "text": [
      "_________________________________________________________________\n",
      "Layer (type)                 Output Shape              Param #   \n",
      "=================================================================\n",
      "input_1 (InputLayer)         (None, 50, 50, 3)         0         \n",
      "_________________________________________________________________\n",
      "block1_conv1 (Conv2D)        (None, 50, 50, 64)        1792      \n",
      "_________________________________________________________________\n",
      "block1_conv2 (Conv2D)        (None, 50, 50, 64)        36928     \n",
      "_________________________________________________________________\n",
      "block1_pool (MaxPooling2D)   (None, 25, 25, 64)        0         \n",
      "_________________________________________________________________\n",
      "block2_conv1 (Conv2D)        (None, 25, 25, 128)       73856     \n",
      "_________________________________________________________________\n",
      "block2_conv2 (Conv2D)        (None, 25, 25, 128)       147584    \n",
      "_________________________________________________________________\n",
      "block2_pool (MaxPooling2D)   (None, 12, 12, 128)       0         \n",
      "_________________________________________________________________\n",
      "block3_conv1 (Conv2D)        (None, 12, 12, 256)       295168    \n",
      "_________________________________________________________________\n",
      "block3_conv2 (Conv2D)        (None, 12, 12, 256)       590080    \n",
      "_________________________________________________________________\n",
      "block3_conv3 (Conv2D)        (None, 12, 12, 256)       590080    \n",
      "_________________________________________________________________\n",
      "block3_pool (MaxPooling2D)   (None, 6, 6, 256)         0         \n",
      "_________________________________________________________________\n",
      "block4_conv1 (Conv2D)        (None, 6, 6, 512)         1180160   \n",
      "_________________________________________________________________\n",
      "block4_conv2 (Conv2D)        (None, 6, 6, 512)         2359808   \n",
      "_________________________________________________________________\n",
      "block4_conv3 (Conv2D)        (None, 6, 6, 512)         2359808   \n",
      "_________________________________________________________________\n",
      "block4_pool (MaxPooling2D)   (None, 3, 3, 512)         0         \n",
      "_________________________________________________________________\n",
      "block5_conv1 (Conv2D)        (None, 3, 3, 512)         2359808   \n",
      "_________________________________________________________________\n",
      "block5_conv2 (Conv2D)        (None, 3, 3, 512)         2359808   \n",
      "_________________________________________________________________\n",
      "block5_conv3 (Conv2D)        (None, 3, 3, 512)         2359808   \n",
      "_________________________________________________________________\n",
      "block5_pool (MaxPooling2D)   (None, 1, 1, 512)         0         \n",
      "_________________________________________________________________\n",
      "flatten_1 (Flatten)          (None, 512)               0         \n",
      "_________________________________________________________________\n",
      "dense_1 (Dense)              (None, 120)               61560     \n",
      "_________________________________________________________________\n",
      "dropout_1 (Dropout)          (None, 120)               0         \n",
      "_________________________________________________________________\n",
      "dense_2 (Dense)              (None, 2)                 242       \n",
      "=================================================================\n",
      "Total params: 14,776,490\n",
      "Trainable params: 14,776,490\n",
      "Non-trainable params: 0\n",
      "_________________________________________________________________\n"
     ]
    }
   ],
   "source": [
    "# print model structure diagram - to see how it has changed with our layers added to this model\n",
    "transfer_model.summary()"
   ]
  },
  {
   "cell_type": "code",
   "execution_count": 33,
   "metadata": {},
   "outputs": [],
   "source": [
    "# Freeze all layers in the Inception V3 base model - it's important to freeze the convolution layers so they don't retrain.\n",
    "for layer in base_model.layers:\n",
    "    layer.trainable = False"
   ]
  },
  {
   "cell_type": "code",
   "execution_count": 34,
   "metadata": {},
   "outputs": [],
   "source": [
    "# compiling our transfer_model with binary_crossentropy\n",
    "transfer_model.compile(optimizer='adam', loss='binary_crossentropy', metrics=['accuracy'])"
   ]
  },
  {
   "cell_type": "code",
   "execution_count": 35,
   "metadata": {},
   "outputs": [
    {
     "data": {
      "text/plain": [
       "array([[1., 0.],\n",
       "       [0., 1.],\n",
       "       [0., 1.]], dtype=float32)"
      ]
     },
     "execution_count": 35,
     "metadata": {},
     "output_type": "execute_result"
    }
   ],
   "source": [
    "# converting y_test back to hot-encoded so we can fit the transfer_model\n",
    "y_test = to_categorical(y_test, 2)\n",
    "y_test[0:3]"
   ]
  },
  {
   "cell_type": "code",
   "execution_count": 37,
   "metadata": {},
   "outputs": [],
   "source": [
    "# creating a callback early_stop function:\n",
    "early_stop = keras.callbacks.EarlyStopping(monitor='val_loss', patience=5)"
   ]
  },
  {
   "cell_type": "code",
   "execution_count": 39,
   "metadata": {},
   "outputs": [
    {
     "name": "stdout",
     "output_type": "stream",
     "text": [
      "Train on 22046 samples, validate on 5512 samples\n",
      "Epoch 1/20\n",
      "22046/22046 [==============================] - 983s 45ms/step - loss: 0.3435 - acc: 0.8549 - val_loss: 0.2913 - val_acc: 0.8759\n",
      "Epoch 2/20\n",
      "22046/22046 [==============================] - 965s 44ms/step - loss: 0.2838 - acc: 0.8823 - val_loss: 0.2611 - val_acc: 0.8915\n",
      "Epoch 3/20\n",
      "22046/22046 [==============================] - 994s 45ms/step - loss: 0.2614 - acc: 0.8930 - val_loss: 0.2432 - val_acc: 0.8964\n",
      "Epoch 4/20\n",
      "22046/22046 [==============================] - 998s 45ms/step - loss: 0.2474 - acc: 0.8985 - val_loss: 0.2449 - val_acc: 0.8939\n",
      "Epoch 5/20\n",
      "22046/22046 [==============================] - 991s 45ms/step - loss: 0.2406 - acc: 0.9021 - val_loss: 0.2321 - val_acc: 0.8981\n",
      "Epoch 6/20\n",
      "22046/22046 [==============================] - 897s 41ms/step - loss: 0.2326 - acc: 0.9052 - val_loss: 0.2265 - val_acc: 0.9028\n",
      "Epoch 7/20\n",
      "22046/22046 [==============================] - 613s 28ms/step - loss: 0.2269 - acc: 0.9076 - val_loss: 0.2237 - val_acc: 0.9040\n",
      "Epoch 8/20\n",
      "22046/22046 [==============================] - 632s 29ms/step - loss: 0.2251 - acc: 0.9098 - val_loss: 0.2234 - val_acc: 0.9073\n",
      "Epoch 9/20\n",
      "22046/22046 [==============================] - 572s 26ms/step - loss: 0.2220 - acc: 0.9087 - val_loss: 0.2210 - val_acc: 0.9056\n",
      "Epoch 10/20\n",
      "22046/22046 [==============================] - 538s 24ms/step - loss: 0.2195 - acc: 0.9116 - val_loss: 0.2164 - val_acc: 0.9093\n",
      "Epoch 11/20\n",
      "22046/22046 [==============================] - 536s 24ms/step - loss: 0.2164 - acc: 0.9122 - val_loss: 0.2224 - val_acc: 0.9061\n",
      "Epoch 12/20\n",
      "22046/22046 [==============================] - 576s 26ms/step - loss: 0.2148 - acc: 0.9137 - val_loss: 0.2198 - val_acc: 0.9065\n",
      "Epoch 13/20\n",
      "22046/22046 [==============================] - 560s 25ms/step - loss: 0.2127 - acc: 0.9139 - val_loss: 0.2168 - val_acc: 0.9097\n",
      "Epoch 14/20\n",
      "22046/22046 [==============================] - 652s 30ms/step - loss: 0.2094 - acc: 0.9157 - val_loss: 0.2143 - val_acc: 0.9093\n",
      "Epoch 15/20\n",
      "22046/22046 [==============================] - 683s 31ms/step - loss: 0.2074 - acc: 0.9161 - val_loss: 0.2124 - val_acc: 0.9131\n",
      "Epoch 16/20\n",
      "22046/22046 [==============================] - 642s 29ms/step - loss: 0.2072 - acc: 0.9167 - val_loss: 0.2197 - val_acc: 0.9070\n",
      "Epoch 17/20\n",
      "22046/22046 [==============================] - 628s 28ms/step - loss: 0.2053 - acc: 0.9181 - val_loss: 0.2115 - val_acc: 0.9116\n",
      "Epoch 18/20\n",
      "22046/22046 [==============================] - 614s 28ms/step - loss: 0.2033 - acc: 0.9189 - val_loss: 0.2101 - val_acc: 0.9134\n",
      "Epoch 19/20\n",
      "22046/22046 [==============================] - 628s 28ms/step - loss: 0.2008 - acc: 0.9202 - val_loss: 0.2204 - val_acc: 0.9091\n",
      "Epoch 20/20\n",
      "22046/22046 [==============================] - 707s 32ms/step - loss: 0.1980 - acc: 0.9203 - val_loss: 0.2138 - val_acc: 0.9122\n"
     ]
    }
   ],
   "source": [
    "# Traain the transfer model using the same number of epochs and batch size as mymodel\n",
    "history = transfer_model.fit(\n",
    "    X_train,\n",
    "    y_train,\n",
    "    epochs=20,\n",
    "    batch_size=120,\n",
    "    validation_data=(X_test,y_test),\n",
    "    callbacks=[early_stop]\n",
    ")"
   ]
  },
  {
   "cell_type": "code",
   "execution_count": 40,
   "metadata": {},
   "outputs": [
    {
     "data": {
      "text/plain": [
       "[<matplotlib.lines.Line2D at 0x1fcf8c33208>,\n",
       " <matplotlib.lines.Line2D at 0x1fcf8c33358>]"
      ]
     },
     "execution_count": 40,
     "metadata": {},
     "output_type": "execute_result"
    },
    {
     "data": {
      "text/plain": [
       "<matplotlib.legend.Legend at 0x1fcf8c338d0>"
      ]
     },
     "execution_count": 40,
     "metadata": {},
     "output_type": "execute_result"
    },
    {
     "data": {
      "image/png": "[encoded data removed]",
      "text/plain": [
       "<Figure size 432x288 with 1 Axes>"
      ]
     },
     "metadata": {
      "needs_background": "light"
     },
     "output_type": "display_data"
    }
   ],
   "source": [
    "#   Plot data to see relationships in training and validation data\n",
    "epoch_list = list(range(1, len(history.history['acc']) + 1))  # values for x axis [1, 2, ..., # of epochs]\n",
    "plt.plot(epoch_list, history.history['acc'], epoch_list, history.history['val_acc'])\n",
    "plt.legend(('Training Accuracy', 'Validation Accuracy'))\n",
    "plt.show()"
   ]
  },
  {
   "cell_type": "code",
   "execution_count": 41,
   "metadata": {},
   "outputs": [],
   "source": [
    "# Saving/loading whole models (architecture + weights + optimizer state) in one file:\n",
    "transfer_model.save('model_malaria_transfer.h5')"
   ]
  },
  {
   "cell_type": "markdown",
   "metadata": {},
   "source": [
    "#### Load Transfer Model Here:"
   ]
  },
  {
   "cell_type": "code",
   "execution_count": 43,
   "metadata": {},
   "outputs": [],
   "source": [
    "# load model if necessary \n",
    "# start here without having to train it again:\n",
    "\n",
    "# del transfer_model\n",
    "# gc.collect()\n",
    "from keras.models import load_model\n",
    "transfer_model = load_model('model_malaria_transfer.h5')"
   ]
  },
  {
   "cell_type": "code",
   "execution_count": 45,
   "metadata": {},
   "outputs": [],
   "source": [
    "# Do a prediction using the model and the X_Test Data\n",
    "y_pred_transfer = transfer_model.predict(X_test)"
   ]
  },
  {
   "cell_type": "code",
   "execution_count": 47,
   "metadata": {},
   "outputs": [],
   "source": [
    "# converting back to categorical values back from one-hot-encoding for Accuracy Metrics:\n",
    "y_pred_transfer = np.argmax(y_pred_transfer, axis=1)\n",
    "y_test = np.argmax(y_test, axis=1)"
   ]
  },
  {
   "cell_type": "code",
   "execution_count": 49,
   "metadata": {},
   "outputs": [
    {
     "data": {
      "text/plain": [
       "'ACCURACY SCORE:'"
      ]
     },
     "execution_count": 49,
     "metadata": {},
     "output_type": "execute_result"
    },
    {
     "data": {
      "text/plain": [
       "0.9120101596516691"
      ]
     },
     "execution_count": 49,
     "metadata": {},
     "output_type": "execute_result"
    },
    {
     "data": {
      "text/plain": [
       "'CLASSIFICATION REPORT:'"
      ]
     },
     "execution_count": 49,
     "metadata": {},
     "output_type": "execute_result"
    },
    {
     "name": "stdout",
     "output_type": "stream",
     "text": [
      "              precision    recall  f1-score   support\n",
      "\n",
      "           0       0.89      0.93      0.91      2757\n",
      "           1       0.93      0.89      0.91      2755\n",
      "\n",
      "   micro avg       0.91      0.91      0.91      5512\n",
      "   macro avg       0.91      0.91      0.91      5512\n",
      "weighted avg       0.91      0.91      0.91      5512\n",
      "\n"
     ]
    }
   ],
   "source": [
    "# See Accuracy Metrics of my custom model using the prediction values:\n",
    "\n",
    "from sklearn.metrics import accuracy_score\n",
    "from sklearn.metrics import classification_report, confusion_matrix\n",
    "\n",
    "# need to rescale it back before sending it to the accuracy score:\n",
    "'ACCURACY SCORE:'\n",
    "accuracy_score(y_test, y_pred_transfer)\n",
    "\n",
    "'CLASSIFICATION REPORT:' \n",
    "print(classification_report(y_test, y_pred_transfer))"
   ]
  },
  {
   "cell_type": "code",
   "execution_count": 48,
   "metadata": {},
   "outputs": [
    {
     "data": {
      "text/plain": [
       "'CONFUSION MATRIX:'"
      ]
     },
     "execution_count": 48,
     "metadata": {},
     "output_type": "execute_result"
    },
    {
     "data": {
      "text/plain": [
       "'TRUE POSITIVES | FALSE NEGATIVES'"
      ]
     },
     "execution_count": 48,
     "metadata": {},
     "output_type": "execute_result"
    },
    {
     "data": {
      "text/plain": [
       "'FALSE POSITIVES | TRUE NEGATIVES'"
      ]
     },
     "execution_count": 48,
     "metadata": {},
     "output_type": "execute_result"
    },
    {
     "data": {
      "text/plain": [
       "(2450, 305)"
      ]
     },
     "execution_count": 48,
     "metadata": {},
     "output_type": "execute_result"
    },
    {
     "data": {
      "text/plain": [
       "(180, 2450)"
      ]
     },
     "execution_count": 48,
     "metadata": {},
     "output_type": "execute_result"
    },
    {
     "data": {
      "text/plain": [
       "<matplotlib.axes._subplots.AxesSubplot at 0x1fcf8c03e10>"
      ]
     },
     "execution_count": 48,
     "metadata": {},
     "output_type": "execute_result"
    },
    {
     "data": {
      "image/png": "[encoded data removed]",
      "text/plain": [
       "<Figure size 432x288 with 2 Axes>"
      ]
     },
     "metadata": {
      "needs_background": "light"
     },
     "output_type": "display_data"
    }
   ],
   "source": [
    "# the Confusion Matrix from scikit learn has predicted on side, actual on top, so it's confusing. Here, we unravel it into variables and print it out without confusion:\n",
    "'CONFUSION MATRIX:'\n",
    "tn, fp, fn, tp = confusion_matrix(y_test, y_pred_transfer).ravel()\n",
    "'TRUE POSITIVES | FALSE NEGATIVES'\n",
    "'FALSE POSITIVES | TRUE NEGATIVES'\n",
    "tp, fn\n",
    "fp, tp\n",
    "\n",
    "\n",
    "# To Plot the Confusion Matrix:\n",
    "import matplotlib.pyplot as plt\n",
    "conf = confusion_matrix(y_test, y_pred_transfer)\n",
    "sns.heatmap(conf, annot=True)"
   ]
  },
  {
   "cell_type": "markdown",
   "metadata": {},
   "source": [
    "## Conclusion:\n",
    "As we can see, the results for the transfer learned model were much worse. Since these cellular images were so specific, it is best that we built our own custom model for this from scratch."
   ]
  }
 ],
 "metadata": {
  "kernelspec": {
   "display_name": "Python 3",
   "language": "python",
   "name": "python3"
  },
  "language_info": {
   "codemirror_mode": {
    "name": "ipython",
    "version": 3
   },
   "file_extension": ".py",
   "mimetype": "text/x-python",
   "name": "python",
   "nbconvert_exporter": "python",
   "pygments_lexer": "ipython3",
   "version": "3.7.3"
  }
 },
 "nbformat": 4,
 "nbformat_minor": 2
}
